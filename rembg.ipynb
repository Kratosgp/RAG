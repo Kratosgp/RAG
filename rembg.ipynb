{
 "cells": [
  {
   "cell_type": "code",
   "execution_count": 4,
   "id": "61b82842-dad3-4aed-b9de-5c66e24307a8",
   "metadata": {},
   "outputs": [
    {
     "name": "stdout",
     "output_type": "stream",
     "text": [
      "Defaulting to user installation because normal site-packages is not writeable\n",
      "Requirement already satisfied: rembg in ./.local/lib/python3.9/site-packages (2.0.53)\n",
      "Requirement already satisfied: jsonschema in ./.local/lib/python3.9/site-packages (from rembg) (4.20.0)\n",
      "Requirement already satisfied: numpy in /opt/intel/oneapi/intelpython/python3.9/lib/python3.9/site-packages (from rembg) (1.24.3)\n",
      "Requirement already satisfied: onnxruntime in ./.local/lib/python3.9/site-packages (from rembg) (1.15.1)\n",
      "Requirement already satisfied: opencv-python-headless in ./.local/lib/python3.9/site-packages (from rembg) (4.8.1.78)\n",
      "Requirement already satisfied: pillow in ./.local/lib/python3.9/site-packages (from rembg) (10.1.0)\n",
      "Requirement already satisfied: pooch in /opt/intel/oneapi/intelpython/python3.9/lib/python3.9/site-packages (from rembg) (1.7.0)\n",
      "Requirement already satisfied: pymatting in ./.local/lib/python3.9/site-packages (from rembg) (1.1.12)\n",
      "Requirement already satisfied: scikit-image in ./.local/lib/python3.9/site-packages (from rembg) (0.22.0)\n",
      "Requirement already satisfied: scipy in /opt/intel/oneapi/intelpython/python3.9/lib/python3.9/site-packages (from rembg) (1.10.1)\n",
      "Requirement already satisfied: tqdm in /opt/intel/oneapi/intelpython/python3.9/lib/python3.9/site-packages (from rembg) (4.65.0)\n",
      "Requirement already satisfied: attrs>=22.2.0 in ./.local/lib/python3.9/site-packages (from jsonschema->rembg) (23.1.0)\n",
      "Requirement already satisfied: jsonschema-specifications>=2023.03.6 in ./.local/lib/python3.9/site-packages (from jsonschema->rembg) (2023.11.2)\n",
      "Requirement already satisfied: referencing>=0.28.4 in ./.local/lib/python3.9/site-packages (from jsonschema->rembg) (0.32.0)\n",
      "Requirement already satisfied: rpds-py>=0.7.1 in ./.local/lib/python3.9/site-packages (from jsonschema->rembg) (0.13.2)\n",
      "Requirement already satisfied: coloredlogs in ./.local/lib/python3.9/site-packages (from onnxruntime->rembg) (15.0.1)\n",
      "Requirement already satisfied: flatbuffers in ./.local/lib/python3.9/site-packages (from onnxruntime->rembg) (23.5.26)\n",
      "Requirement already satisfied: packaging in ./.local/lib/python3.9/site-packages (from onnxruntime->rembg) (23.2)\n",
      "Requirement already satisfied: protobuf in ./.local/lib/python3.9/site-packages (from onnxruntime->rembg) (4.25.1)\n",
      "Requirement already satisfied: sympy in ./.local/lib/python3.9/site-packages (from onnxruntime->rembg) (1.12)\n",
      "Requirement already satisfied: platformdirs>=2.5.0 in /opt/intel/oneapi/intelpython/python3.9/lib/python3.9/site-packages (from pooch->rembg) (3.6.0)\n",
      "Requirement already satisfied: requests>=2.19.0 in /opt/intel/oneapi/intelpython/python3.9/lib/python3.9/site-packages (from pooch->rembg) (2.31.0)\n",
      "Requirement already satisfied: numba!=0.49.0 in /opt/intel/oneapi/intelpython/python3.9/lib/python3.9/site-packages (from pymatting->rembg) (0.57.0)\n",
      "Requirement already satisfied: networkx>=2.8 in ./.local/lib/python3.9/site-packages (from scikit-image->rembg) (3.2.1)\n",
      "Requirement already satisfied: imageio>=2.27 in ./.local/lib/python3.9/site-packages (from scikit-image->rembg) (2.33.1)\n",
      "Requirement already satisfied: tifffile>=2022.8.12 in ./.local/lib/python3.9/site-packages (from scikit-image->rembg) (2023.12.9)\n",
      "Requirement already satisfied: lazy_loader>=0.3 in ./.local/lib/python3.9/site-packages (from scikit-image->rembg) (0.3)\n",
      "Requirement already satisfied: llvmlite<0.41,>=0.40.0dev0 in /opt/intel/oneapi/intelpython/python3.9/lib/python3.9/site-packages (from numba!=0.49.0->pymatting->rembg) (0.40.0)\n",
      "Requirement already satisfied: charset-normalizer<4,>=2 in /opt/intel/oneapi/intelpython/python3.9/lib/python3.9/site-packages (from requests>=2.19.0->pooch->rembg) (3.1.0)\n",
      "Requirement already satisfied: idna<4,>=2.5 in /opt/intel/oneapi/intelpython/python3.9/lib/python3.9/site-packages (from requests>=2.19.0->pooch->rembg) (3.4)\n",
      "Requirement already satisfied: urllib3<3,>=1.21.1 in /opt/intel/oneapi/intelpython/python3.9/lib/python3.9/site-packages (from requests>=2.19.0->pooch->rembg) (2.0.3)\n",
      "Requirement already satisfied: certifi>=2017.4.17 in /opt/intel/oneapi/intelpython/python3.9/lib/python3.9/site-packages (from requests>=2.19.0->pooch->rembg) (2023.7.22)\n",
      "Requirement already satisfied: humanfriendly>=9.1 in ./.local/lib/python3.9/site-packages (from coloredlogs->onnxruntime->rembg) (10.0)\n",
      "Requirement already satisfied: mpmath>=0.19 in ./.local/lib/python3.9/site-packages (from sympy->onnxruntime->rembg) (1.3.0)\n",
      "Defaulting to user installation because normal site-packages is not writeable\n",
      "Collecting easygui\n",
      "  Downloading easygui-0.98.3-py2.py3-none-any.whl (92 kB)\n",
      "\u001b[2K     \u001b[90m━━━━━━━━━━━━━━━━━━━━━━━━━━━━━━━━━━━━━━━━\u001b[0m \u001b[32m92.7/92.7 kB\u001b[0m \u001b[31m1.7 MB/s\u001b[0m eta \u001b[36m0:00:00\u001b[0m00:01\u001b[0m\n",
      "\u001b[?25hInstalling collected packages: easygui\n",
      "Successfully installed easygui-0.98.3\n"
     ]
    }
   ],
   "source": [
    "!pip install rembg\n",
    "!pip install easygui"
   ]
  },
  {
   "cell_type": "code",
   "execution_count": 5,
   "id": "dcabe03b-8237-4851-9165-6b97b4e2704c",
   "metadata": {},
   "outputs": [],
   "source": [
    "import os\n",
    "from rembg import remove\n",
    "import easygui\n",
    "from PIL import Image"
   ]
  },
  {
   "cell_type": "code",
   "execution_count": 8,
   "id": "81b952a1-3d3e-4b71-af7c-a6c1c27369b6",
   "metadata": {},
   "outputs": [],
   "source": [
    "#imgPath = easygui.fileopenbox(title='Select image file')\n",
    "imgPath = \"t-shirt_landscape.jpeg\"\n",
    "imgfilename = os.path.basename(imgPath)"
   ]
  },
  {
   "cell_type": "code",
   "execution_count": 19,
   "id": "24152474-501b-4517-afa2-8d329e64bc1a",
   "metadata": {},
   "outputs": [
    {
     "name": "stdout",
     "output_type": "stream",
     "text": [
      "t-shirt_landscape.jpeg\n"
     ]
    }
   ],
   "source": [
    "print(imgfilename)"
   ]
  },
  {
   "cell_type": "code",
   "execution_count": 30,
   "id": "09117d89-b1d2-4e2b-bfac-cd43323af211",
   "metadata": {},
   "outputs": [
    {
     "name": "stdin",
     "output_type": "stream",
     "text": [
      "Enter your name: rem\n"
     ]
    }
   ],
   "source": [
    "dir_name = input(\"Enter your name:\")"
   ]
  },
  {
   "cell_type": "code",
   "execution_count": 31,
   "id": "bedd23d1-e21e-4882-bdbc-867ad7eea230",
   "metadata": {},
   "outputs": [
    {
     "data": {
      "text/plain": [
       "'rem'"
      ]
     },
     "execution_count": 31,
     "metadata": {},
     "output_type": "execute_result"
    }
   ],
   "source": [
    "dir_name"
   ]
  },
  {
   "cell_type": "code",
   "execution_count": 35,
   "id": "d312c7ec-52ba-4826-80d9-fea589d77794",
   "metadata": {},
   "outputs": [],
   "source": [
    "parent_dir = \"\"\n",
    "chosen_path = os.path.join(parent_dir, dir_name)\n",
    "\n",
    "output_path = os.path.join(chosen_path, f\"{os.path.splitext(imgfilename)[0]}.png\")"
   ]
  },
  {
   "cell_type": "code",
   "execution_count": 36,
   "id": "adbc4f60-c808-4efc-9f7d-f49980598c52",
   "metadata": {},
   "outputs": [
    {
     "name": "stderr",
     "output_type": "stream",
     "text": [
      "Downloading data from 'https://github.com/danielgatis/rembg/releases/download/v0.0.0/u2net.onnx' to file '/home/u0b817cfd23a171900ce65594e26cb0a/.u2net/u2net.onnx'.\n",
      "100%|████████████████████████████████████████| 176M/176M [00:00<00:00, 294GB/s]\n"
     ]
    },
    {
     "name": "stdout",
     "output_type": "stream",
     "text": [
      "Done!\n"
     ]
    }
   ],
   "source": [
    "if os.path.exists(chosen_path):\n",
    "    image = Image.open(imgPath)\n",
    "\n",
    "    # remove the background (a function from rembg module)\n",
    "    outputImg = remove(image)\n",
    "    outputImg.save(output_path, format=\"PNG\")\n",
    "\n",
    "    print(f\"Image saved successfully as {output_path}\")\n",
    "else:\n",
    "    os.mkdir(chosen_path)\n",
    "    image = Image.open(imgPath)\n",
    "\n",
    "    # remove the background (a function from rembg module)\n",
    "    outputImg = remove(image)\n",
    "    outputImg.save(output_path, format=\"PNG\")\n",
    "\n",
    "    print(\"Done!\")\n"
   ]
  },
  {
   "cell_type": "code",
   "execution_count": 34,
   "id": "ab565ce1-6c2b-4323-ba22-a330521e81c0",
   "metadata": {},
   "outputs": [],
   "source": [
    "os.mkdir('test')"
   ]
  },
  {
   "cell_type": "code",
   "execution_count": null,
   "id": "dd430823-7ebf-4f05-b680-e3fb5f3c1238",
   "metadata": {},
   "outputs": [],
   "source": []
  }
 ],
 "metadata": {
  "kernelspec": {
   "display_name": "base",
   "language": "python",
   "name": "base"
  },
  "language_info": {
   "codemirror_mode": {
    "name": "ipython",
    "version": 3
   },
   "file_extension": ".py",
   "mimetype": "text/x-python",
   "name": "python",
   "nbconvert_exporter": "python",
   "pygments_lexer": "ipython3",
   "version": "3.9.16"
  }
 },
 "nbformat": 4,
 "nbformat_minor": 5
}
